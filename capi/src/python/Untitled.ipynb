{
 "cells": [
  {
   "cell_type": "code",
   "execution_count": 1,
   "metadata": {},
   "outputs": [],
   "source": [
    "import sys\n",
    "import time\n",
    "\n",
    "# пути до модуля _test\n",
    "sys.path.append('.')\n",
    "sys.path.append('lib/')\n",
    "sys.path.append('../../lib/')\n",
    "\n",
    "import _test  "
   ]
  },
  {
   "cell_type": "code",
   "execution_count": 2,
   "metadata": {},
   "outputs": [
    {
     "data": {
      "text/plain": [
       "139883868468752"
      ]
     },
     "execution_count": 2,
     "metadata": {},
     "output_type": "execute_result"
    }
   ],
   "source": [
    "pointer = _test.get_pointer_list()\n",
    "pointer"
   ]
  },
  {
   "cell_type": "code",
   "execution_count": 3,
   "metadata": {},
   "outputs": [
    {
     "data": {
      "text/plain": [
       "int"
      ]
     },
     "execution_count": 3,
     "metadata": {},
     "output_type": "execute_result"
    }
   ],
   "source": [
    "type(pointer)"
   ]
  },
  {
   "cell_type": "code",
   "execution_count": 18,
   "metadata": {},
   "outputs": [
    {
     "data": {
      "text/plain": [
       "[-1000, 2222, 2, 3, 4, 5, 6, 7, 8, 9]"
      ]
     },
     "execution_count": 18,
     "metadata": {},
     "output_type": "execute_result"
    }
   ],
   "source": [
    "l = _test.get_list_by_pointer(pointer)\n",
    "l"
   ]
  },
  {
   "cell_type": "code",
   "execution_count": 16,
   "metadata": {},
   "outputs": [
    {
     "data": {
      "text/plain": [
       "[-1000, 2222, 2, 3, 4, 5, 6, 7, 8, 9]"
      ]
     },
     "execution_count": 16,
     "metadata": {},
     "output_type": "execute_result"
    }
   ],
   "source": [
    "l[0] = -1000\n",
    "l[1] = 2222\n",
    "l"
   ]
  },
  {
   "cell_type": "code",
   "execution_count": 17,
   "metadata": {},
   "outputs": [],
   "source": [
    "_test.set_list(l, pointer)"
   ]
  },
  {
   "cell_type": "code",
   "execution_count": 2,
   "metadata": {},
   "outputs": [
    {
     "data": {
      "text/plain": [
       "[-1, 1, 2, 3, 4, 5, 6, 7, 8, 9]"
      ]
     },
     "execution_count": 2,
     "metadata": {},
     "output_type": "execute_result"
    }
   ],
   "source": [
    "l = _test.get_list()\n",
    "l[0] = -1\n",
    "l"
   ]
  },
  {
   "cell_type": "code",
   "execution_count": 9,
   "metadata": {},
   "outputs": [
    {
     "ename": "NameError",
     "evalue": "name 'l' is not defined",
     "output_type": "error",
     "traceback": [
      "\u001b[0;31m---------------------------------------------------------------------------\u001b[0m",
      "\u001b[0;31mNameError\u001b[0m                                 Traceback (most recent call last)",
      "\u001b[0;32m<ipython-input-9-c6f3e22d6b93>\u001b[0m in \u001b[0;36m<module>\u001b[0;34m\u001b[0m\n\u001b[0;32m----> 1\u001b[0;31m \u001b[0m_test\u001b[0m\u001b[0;34m.\u001b[0m\u001b[0mset_list\u001b[0m\u001b[0;34m(\u001b[0m\u001b[0ml\u001b[0m\u001b[0;34m,\u001b[0m \u001b[0;36m10\u001b[0m\u001b[0;34m)\u001b[0m\u001b[0;34m\u001b[0m\u001b[0;34m\u001b[0m\u001b[0m\n\u001b[0m",
      "\u001b[0;31mNameError\u001b[0m: name 'l' is not defined"
     ]
    }
   ],
   "source": []
  },
  {
   "cell_type": "code",
   "execution_count": 7,
   "metadata": {},
   "outputs": [
    {
     "data": {
      "text/plain": [
       "[-1, 1, 2, 3, 4, 5, 6, 7, 8, 9]"
      ]
     },
     "execution_count": 7,
     "metadata": {},
     "output_type": "execute_result"
    }
   ],
   "source": [
    "_test.get_list()"
   ]
  },
  {
   "cell_type": "code",
   "execution_count": 2,
   "metadata": {},
   "outputs": [
    {
     "data": {
      "text/plain": [
       "<module '_test' from '../../lib/_test.so'>"
      ]
     },
     "execution_count": 2,
     "metadata": {},
     "output_type": "execute_result"
    }
   ],
   "source": [
    "_test"
   ]
  },
  {
   "cell_type": "code",
   "execution_count": 3,
   "metadata": {},
   "outputs": [
    {
     "name": "stdout",
     "output_type": "stream",
     "text": [
      "C API\n",
      "\n",
      "C\n",
      "\n",
      "Работа с функциями:\n",
      "ret func_hello:  None\n",
      "ret func_ret_int:  1010\n",
      "ret func_ret_double:  12.123456789\n",
      "ret func_ret_str:  Hello!\n",
      "ret func_many_args:  (15, 18.1617, 'Many arguments!')\n"
     ]
    }
   ],
   "source": [
    "###\n",
    "## C\n",
    "###\n",
    "\n",
    "print(\"C API\\n\")\n",
    "print(\"C\\n\")\n",
    "\n",
    "start_time = time.time()\n",
    "\n",
    "\n",
    "##\n",
    "# Работа с функциями\n",
    "##\n",
    "    \n",
    "print('Работа с функциями:')\n",
    "print('ret func_hello: ', _test.func_hello())\n",
    "print('ret func_ret_int: ', _test.func_ret_int(1010))\n",
    "print('ret func_ret_double: ', _test.func_ret_double(12.123456789))\n",
    "print('ret func_ret_str: ', _test.func_ret_str('Hello!'))\n",
    "print('ret func_many_args: ', _test.func_many_args(15, 18.1617, \"Many arguments!\"))"
   ]
  },
  {
   "cell_type": "code",
   "execution_count": 15,
   "metadata": {},
   "outputs": [
    {
     "data": {
      "text/plain": [
       "1"
      ]
     },
     "execution_count": 15,
     "metadata": {},
     "output_type": "execute_result"
    }
   ],
   "source": [
    "_test.counter + 1"
   ]
  },
  {
   "cell_type": "code",
   "execution_count": 16,
   "metadata": {},
   "outputs": [
    {
     "data": {
      "text/plain": [
       "5"
      ]
     },
     "execution_count": 16,
     "metadata": {},
     "output_type": "execute_result"
    }
   ],
   "source": [
    "_test.add_to_counter()"
   ]
  },
  {
   "cell_type": "code",
   "execution_count": 4,
   "metadata": {},
   "outputs": [
    {
     "name": "stdout",
     "output_type": "stream",
     "text": [
      "\n",
      "Работа с переменными:\n",
      "ret a:  5\n",
      "new a:  22\n",
      "ret b:  5.12345\n",
      "ret c:  88\n",
      "\n",
      "Работа со структурами:\n",
      "st.val1 = 1\n",
      "st.val2 = 2.3456789\n",
      "st.val3 = X\n",
      "ret func_ret_struct:\n",
      "st.val1 = 2\n",
      "st.val2 = 3.3456789\n",
      "st.val3 = Y\n",
      "--- 2.2491865158081055 seconds ---\n"
     ]
    }
   ],
   "source": [
    "\n",
    "\n",
    "\n",
    "##\n",
    "# Работа с переменными\n",
    "##\n",
    "\n",
    "print('\\nРабота с переменными:')\n",
    "print('ret a: ', _test.a)\n",
    "\n",
    "# Изменяем значение переменной.\n",
    "_test.a = 22\n",
    "print('new a: ', _test.a)\n",
    "\n",
    "print('ret b: ', _test.b)\n",
    "\n",
    "print('ret c: ', _test.c)\n",
    "\n",
    "\n",
    "##\n",
    "# Работа со структурами\n",
    "##\n",
    "\n",
    "print('\\nРабота со структурами:')\n",
    "\n",
    "# Создаем структуру\n",
    "st = _test.test_st_t(1, 2.3456789, 88)\n",
    "\n",
    "print('st.val1 = {}\\nst.val2 = {}\\nst.val3 = {}'.format(st.val1, st.val2, st.val3))\n",
    "st = _test.func_ret_struct(st)\n",
    "print(\"ret func_ret_struct:\")\n",
    "print('st.val1 = {}\\nst.val2 = {}\\nst.val3 = {}'.format(st.val1, st.val2, st.val3))\n",
    "# Вызывай метод print нашей структуры, только по скольку C частично ООП\n",
    "# То нужно в этод метод передать указатель на нашу структуру\n",
    "st.print(st)\n",
    "\n",
    "\n",
    "# Время работы\n",
    "print(\"--- {} seconds ---\".format((time.time() - start_time)))\n"
   ]
  }
 ],
 "metadata": {
  "kernelspec": {
   "display_name": "Python 3",
   "language": "python",
   "name": "python3"
  },
  "language_info": {
   "codemirror_mode": {
    "name": "ipython",
    "version": 3
   },
   "file_extension": ".py",
   "mimetype": "text/x-python",
   "name": "python",
   "nbconvert_exporter": "python",
   "pygments_lexer": "ipython3",
   "version": "3.7.7"
  }
 },
 "nbformat": 4,
 "nbformat_minor": 4
}
